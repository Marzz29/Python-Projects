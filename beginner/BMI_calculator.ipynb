{
 "cells": [
  {
   "attachments": {},
   "cell_type": "markdown",
   "metadata": {},
   "source": [
    "# BMI Calculator\n",
    "This Jupyter Notebook project calculates the Body Mass Index (BMI) for a person based on their height and weight. The project includes the following features:\n",
    "\n",
    "- User input validation to ensure that the inputs are valid and in the correct format.\n",
    "- BMI calculation using Python based on the user's height and weight inputs.\n",
    "- Interpretation of the BMI results according to the World Health Organization (WHO) classification system.\n",
    "- Display of the user's BMI classification and a message indicating if they are at a health risk or not.\n",
    "- Calculation of the recommended daily calorie intake using the Harris-Benedict equation, which estimates the basal metabolic rate (BMR) based on the user's sex, age, height, and weight.\n",
    "- Display of the user's TDEE and recommended daily calorie intake based on their weight status and activity level, with the option to use a calorie deficit or surplus to help the user achieve their weight goals.\n",
    "\n",
    "The project is designed to provide a simple and easy-to-use tool for users to calculate their BMI and assess their weight status. The notebook also includes detailed explanations and comments to guide the user through each step of the calculation process.\n"
   ]
  },
  {
   "cell_type": "code",
   "execution_count": 43,
   "metadata": {},
   "outputs": [
    {
     "name": "stdout",
     "output_type": "stream",
     "text": [
      "Your BMI is 27\n",
      "Uh-oh, it looks like you're carrying some extra weight, yt. Try incorporating more physical activity into your daily routine to help manage your weight and reduce your risk of health problems.\n",
      "Your BMR is 1820\n",
      "Based on your inputs, your Total Daily Energy Expenditure (TDEE) is  2821 calories per day.\n",
      "Based on your weight status and activity level, your recommended daily calorie intake is 2321 calories per day.\n"
     ]
    }
   ],
   "source": [
    "# Ask the user for their age, height, weight, and sex\n",
    "# This would be done using the input function\n",
    "# What is inputed would be saved to a variable name\n",
    "\n",
    "name = input('Enter your name:')\n",
    "\n",
    "age = int(input('Enter your age:')) #Change input to an integer because it would be saved as a string\n",
    "\n",
    "weight = int(input('Enter your weight in pounds: ')) #Change input to an integer because it would be saved as a string\n",
    "\n",
    "height = int(input('Enter your height in inches: ')) #Change input to an integer because it would be saved as a string\n",
    "\n",
    "sex = input('Enter your sex (Male or Female):')\n",
    "\n",
    "# Calculate the user's BMI\n",
    "# Formula for calculating the BMI\n",
    "# Where the weight is in pounds and the height is in inches\n",
    "\n",
    "BMI = (weight * 703) / (height * height)\n",
    "\n",
    "print(\"Your BMI is\", + round(BMI))\n",
    "\n",
    "# Determine the user's weight status based on the WHO classification system\n",
    "if BMI > 0:\n",
    "    if BMI < 18.5:\n",
    "        print(\"Oops, it looks like you're underweight, \" + name + \"! Don't forget to eat a healthy and balanced diet to keep your body strong and nourished.\")\n",
    "    elif BMI <= 24.9:\n",
    "        print(\"Congratulations, \" + name + \", you're in the normal weight range! Keep up the good work with your healthy lifestyle choices.\")\n",
    "    elif BMI <= 29.9:\n",
    "        print(\"Uh-oh, it looks like you're carrying some extra weight, \" + name + \". Try incorporating more physical activity into your daily routine to help manage your weight and reduce your risk of health problems.\")\n",
    "    elif BMI <= 34.9:\n",
    "        print(\"It's important to take action when you're in the obese range, \" + name + \". Consider talking to your healthcare provider about a plan to improve your health and reduce your risk of serious health issues.\")\n",
    "    elif BMI <= 39.9:\n",
    "        print(\"This is a serious health concern, \" + name + \". Please talk to your healthcare provider as soon as possible to develop a plan to manage your weight and reduce your risk of serious health problems.\")\n",
    "    else:\n",
    "        print(\"This is an extremely high risk category for you, \" + name + \". Please talk to your healthcare provider immediately to develop a plan to improve your health and reduce your risk of life-threatening health issues.\")\n",
    "else:\n",
    "    print(\"Oops! It looks like you may have entered invalid input, \" + name + \". Please double-check your input and try again.\")\n",
    "\n",
    "\n",
    "# Calculate the user's BMR using the Harris-Benedict equation\n",
    "if sex == 'Male':\n",
    "    BMR = 66 + (6.2 * weight) + (12.7 * height) - (6.76 * age)\n",
    "elif sex == 'Female':\n",
    "    BMR = 655.1 + (4.35 * weight) + (4.7 * height) - (4.7 * age)\n",
    "else:\n",
    "    print(\"Oops! It looks like you may have entered invalid input, \" + name + \". Please double-check your input and try again.\")\n",
    "\n",
    "# Ask the user for their activity level and calculate their TDEE\n",
    "activity_level = input(\"Enter your activity level (sedentary, lightly active, moderately active, very active, super active): \")\n",
    "activity_factor = {\n",
    "        \"sedentary\": 1.2, \n",
    "        \"lightly active\": 1.375, \n",
    "        \"moderately active\": 1.55, \n",
    "        \"very active\": 1.725, \n",
    "        \"super active\": 1.9\n",
    "    }\n",
    "TDEE = BMR * activity_factor[activity_level]\n",
    "\n",
    "# Calculate the user's recommended daily calorie intake based on their weight goals\n",
    "if BMI <= 24.9:\n",
    "    calorie_intake = TDEE #maintain current weight\n",
    "elif BMI < 18.5:\n",
    "    calorie_intake = TDEE + 500 # calorie surplus to gain weight\n",
    "else:\n",
    "    calorie_intake = TDEE - 500 # calorie deficit to lose weight\n",
    "\n",
    "\n",
    "# Display the results to the user\n",
    "print(\"Your BMR is \" + str(round(BMR)))\n",
    "print(\"Based on your inputs, your Total Daily Energy Expenditure (TDEE) is \", str(round(TDEE)) , \"calories per day.\")\n",
    "print(\"Based on your weight status and activity level, your recommended daily calorie intake is\",round(calorie_intake),\"calories per day.\")\n",
    "    \n"
   ]
  }
 ],
 "metadata": {
  "kernelspec": {
   "display_name": "Python 3",
   "language": "python",
   "name": "python3"
  },
  "language_info": {
   "codemirror_mode": {
    "name": "ipython",
    "version": 3
   },
   "file_extension": ".py",
   "mimetype": "text/x-python",
   "name": "python",
   "nbconvert_exporter": "python",
   "pygments_lexer": "ipython3",
   "version": "3.10.9"
  },
  "orig_nbformat": 4
 },
 "nbformat": 4,
 "nbformat_minor": 2
}
